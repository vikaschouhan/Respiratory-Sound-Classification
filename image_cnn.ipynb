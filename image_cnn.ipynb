{
 "cells": [
  {
   "cell_type": "markdown",
   "metadata": {},
   "source": [
    "### Train image based CNN (VGG19) on power melspectrogram images extracted from respiratory audio files.\n",
    "Import all functions.All required functionality has been packaged in readymade functions"
   ]
  },
  {
   "cell_type": "code",
   "execution_count": 1,
   "metadata": {},
   "outputs": [],
   "source": [
    "from utils import *"
   ]
  },
  {
   "cell_type": "markdown",
   "metadata": {},
   "source": [
    "Initialize **paths**. It provides paths for all required files using convenient variable keys."
   ]
  },
  {
   "cell_type": "code",
   "execution_count": 2,
   "metadata": {},
   "outputs": [
    {
     "name": "stdout",
     "output_type": "stream",
     "text": [
      "Dataset root_dir    =  /project/Vikas/projects/kaggle/respiratory_sounds_database\n",
      "demographic_file    =  /project/Vikas/projects/kaggle/respiratory_sounds_database/demographic_info.txt\n",
      "audio_txt_pdir      =  /project/Vikas/projects/kaggle/respiratory_sounds_database/respiratory_sound_database/Respiratory_Sound_Database\n",
      "audio_txt_dir       =  /project/Vikas/projects/kaggle/respiratory_sounds_database/respiratory_sound_database/Respiratory_Sound_Database/audio_and_txt_files\n",
      "filename_diff_file  =  /project/Vikas/projects/kaggle/respiratory_sounds_database/respiratory_sound_database/Respiratory_Sound_Database/filename_differences.txt\n",
      "filename_fmt_file   =  /project/Vikas/projects/kaggle/respiratory_sounds_database/respiratory_sound_database/Respiratory_Sound_Database/filename_format.txt\n",
      "patient_diag_file   =  /project/Vikas/projects/kaggle/respiratory_sounds_database/respiratory_sound_database/Respiratory_Sound_Database/patient_diagnosis.csv\n",
      "{'dataset_root_dir': '/project/Vikas/projects/kaggle/respiratory_sounds_database', 'demographic_file': '/project/Vikas/projects/kaggle/respiratory_sounds_database/demographic_info.txt', 'audio_txt_pdir': '/project/Vikas/projects/kaggle/respiratory_sounds_database/respiratory_sound_database/Respiratory_Sound_Database', 'audio_txt_dir': '/project/Vikas/projects/kaggle/respiratory_sounds_database/respiratory_sound_database/Respiratory_Sound_Database/audio_and_txt_files', 'filename_diff_file': '/project/Vikas/projects/kaggle/respiratory_sounds_database/respiratory_sound_database/Respiratory_Sound_Database/filename_differences.txt', 'filename_fmt_file': '/project/Vikas/projects/kaggle/respiratory_sounds_database/respiratory_sound_database/Respiratory_Sound_Database/filename_format.txt', 'patient_diag_file': '/project/Vikas/projects/kaggle/respiratory_sounds_database/respiratory_sound_database/Respiratory_Sound_Database/patient_diagnosis.csv'}\n"
     ]
    }
   ],
   "source": [
    "dataset_path = '/project/Vikas/projects/kaggle/respiratory_sounds_database'\n",
    "paths        = get_dataset_dirs(root_dir=dataset_path)\n",
    "print(paths)"
   ]
  },
  {
   "cell_type": "markdown",
   "metadata": {},
   "source": [
    "#### Initialize dataset"
   ]
  },
  {
   "cell_type": "code",
   "execution_count": 3,
   "metadata": {},
   "outputs": [
    {
     "name": "stderr",
     "output_type": "stream",
     "text": [
      "100%|██████████| 920/920 [01:27<00:00, 10.54it/s]\n",
      "Processing files.: 100%|██████████| 920/920 [00:00<00:00, 841421.65it/s]\n",
      "100%|██████████| 920/920 [00:28<00:00, 31.80it/s]\n",
      "Saving spectrograms.: 100%|██████████| 917/917 [02:01<00:00,  7.53it/s]\n",
      "Copying files: 917 files [00:00, 10883.91 files/s]\n"
     ]
    },
    {
     "name": "stdout",
     "output_type": "stream",
     "text": [
      "Found 731 images belonging to 6 classes.\n",
      "Found 186 images belonging to 6 classes.\n"
     ]
    }
   ],
   "source": [
    "dataset = populate_dataset_spectrogram_images(paths, sr=22050, remove_rare=True, n_jobs=32, test_size_ratio=0.2)"
   ]
  },
  {
   "cell_type": "code",
   "execution_count": 4,
   "metadata": {},
   "outputs": [],
   "source": [
    "train_gen, val_gen = dataset"
   ]
  },
  {
   "cell_type": "code",
   "execution_count": 7,
   "metadata": {},
   "outputs": [
    {
     "name": "stdout",
     "output_type": "stream",
     "text": [
      "(32, 224, 224, 3)\n"
     ]
    }
   ],
   "source": [
    "sample_feats, sample_labels = train_gen.next()\n",
    "print(sample_feats.shape)"
   ]
  },
  {
   "cell_type": "code",
   "execution_count": 9,
   "metadata": {},
   "outputs": [
    {
     "name": "stderr",
     "output_type": "stream",
     "text": [
      "Clipping input data to the valid range for imshow with RGB data ([0..1] for floats or [0..255] for integers).\n"
     ]
    },
    {
     "name": "stdout",
     "output_type": "stream",
     "text": [
      "Sample spectrogram\n"
     ]
    },
    {
     "data": {
      "text/plain": [
       "<matplotlib.image.AxesImage at 0x7fb4050dc390>"
      ]
     },
     "execution_count": 9,
     "metadata": {},
     "output_type": "execute_result"
    },
    {
     "data": {
      "image/png": "[encoded data removed]",
      "text/plain": [
       "<Figure size 432x288 with 1 Axes>"
      ]
     },
     "metadata": {
      "needs_background": "light"
     },
     "output_type": "display_data"
    }
   ],
   "source": [
    "print('Sample spectrogram')\n",
    "plt.imshow(sample_feats[0])"
   ]
  },
  {
   "cell_type": "markdown",
   "metadata": {},
   "source": [
    "#### Train model"
   ]
  },
  {
   "cell_type": "code",
   "execution_count": 10,
   "metadata": {},
   "outputs": [
    {
     "name": "stdout",
     "output_type": "stream",
     "text": [
      "Train for 23 steps, validate for 6 steps\n",
      "Epoch 1/50\n",
      "22/23 [===========================>..] - ETA: 0s - loss: 0.7482 - accuracy: 0.8269\n",
      "Epoch 00001: val_accuracy improved from -inf to 0.85484, saving model to checkpoints2/mymodel2_01.h5\n",
      "23/23 [==============================] - 14s 606ms/step - loss: 0.7535 - accuracy: 0.8249 - val_loss: 0.5920 - val_accuracy: 0.8548\n",
      "Epoch 2/50\n",
      "22/23 [===========================>..] - ETA: 0s - loss: 0.5460 - accuracy: 0.8670\n",
      "Epoch 00002: val_accuracy did not improve from 0.85484\n",
      "23/23 [==============================] - 8s 366ms/step - loss: 0.5428 - accuracy: 0.8673 - val_loss: 0.5527 - val_accuracy: 0.8548\n",
      "Epoch 3/50\n",
      "22/23 [===========================>..] - ETA: 0s - loss: 0.4896 - accuracy: 0.8670\n",
      "Epoch 00003: val_accuracy did not improve from 0.85484\n",
      "23/23 [==============================] - 8s 367ms/step - loss: 0.4861 - accuracy: 0.8673 - val_loss: 0.4932 - val_accuracy: 0.8548\n",
      "Epoch 4/50\n",
      "22/23 [===========================>..] - ETA: 0s - loss: 0.4234 - accuracy: 0.8670\n",
      "Epoch 00004: val_accuracy improved from 0.85484 to 0.86559, saving model to checkpoints2/mymodel2_04.h5\n",
      "23/23 [==============================] - 9s 377ms/step - loss: 0.4167 - accuracy: 0.8687 - val_loss: 0.4418 - val_accuracy: 0.8656\n",
      "Epoch 5/50\n",
      "22/23 [===========================>..] - ETA: 0s - loss: 0.3819 - accuracy: 0.8727\n",
      "Epoch 00005: val_accuracy did not improve from 0.86559\n",
      "23/23 [==============================] - 8s 365ms/step - loss: 0.3725 - accuracy: 0.8755 - val_loss: 0.4017 - val_accuracy: 0.8495\n",
      "Epoch 6/50\n",
      "22/23 [===========================>..] - ETA: 0s - loss: 0.2952 - accuracy: 0.8970\n",
      "Epoch 00006: val_accuracy improved from 0.86559 to 0.87097, saving model to checkpoints2/mymodel2_06.h5\n",
      "23/23 [==============================] - 9s 380ms/step - loss: 0.3082 - accuracy: 0.8919 - val_loss: 0.3670 - val_accuracy: 0.8710\n",
      "Epoch 7/50\n",
      "22/23 [===========================>..] - ETA: 0s - loss: 0.2546 - accuracy: 0.9013\n",
      "Epoch 00007: val_accuracy improved from 0.87097 to 0.87634, saving model to checkpoints2/mymodel2_07.h5\n",
      "23/23 [==============================] - 9s 375ms/step - loss: 0.2523 - accuracy: 0.9001 - val_loss: 0.3083 - val_accuracy: 0.8763\n",
      "Epoch 8/50\n",
      "22/23 [===========================>..] - ETA: 0s - loss: 0.2121 - accuracy: 0.9285\n",
      "Epoch 00008: val_accuracy did not improve from 0.87634\n",
      "23/23 [==============================] - 9s 373ms/step - loss: 0.2147 - accuracy: 0.9275 - val_loss: 0.2723 - val_accuracy: 0.8763\n",
      "Epoch 9/50\n",
      "22/23 [===========================>..] - ETA: 0s - loss: 0.1953 - accuracy: 0.9328\n",
      "Epoch 00009: val_accuracy improved from 0.87634 to 0.89785, saving model to checkpoints2/mymodel2_09.h5\n",
      "23/23 [==============================] - 9s 378ms/step - loss: 0.1937 - accuracy: 0.9330 - val_loss: 0.2889 - val_accuracy: 0.8978\n",
      "Epoch 10/50\n",
      "22/23 [===========================>..] - ETA: 0s - loss: 0.1480 - accuracy: 0.9460\n",
      "Epoch 00010: val_accuracy did not improve from 0.89785\n",
      "23/23 [==============================] - 8s 369ms/step - loss: 0.1466 - accuracy: 0.9453 - val_loss: 0.2621 - val_accuracy: 0.8925\n",
      "Epoch 11/50\n",
      "22/23 [===========================>..] - ETA: 0s - loss: 0.1302 - accuracy: 0.9628\n",
      "Epoch 00011: val_accuracy improved from 0.89785 to 0.91398, saving model to checkpoints2/mymodel2_11.h5\n",
      "23/23 [==============================] - 9s 378ms/step - loss: 0.1299 - accuracy: 0.9617 - val_loss: 0.2552 - val_accuracy: 0.9140\n",
      "Epoch 12/50\n",
      "22/23 [===========================>..] - ETA: 0s - loss: 0.0929 - accuracy: 0.9700\n",
      "Epoch 00012: val_accuracy did not improve from 0.91398\n",
      "23/23 [==============================] - 8s 369ms/step - loss: 0.0904 - accuracy: 0.9713 - val_loss: 0.2245 - val_accuracy: 0.8978\n",
      "Epoch 13/50\n",
      "22/23 [===========================>..] - ETA: 0s - loss: 0.0678 - accuracy: 0.9771\n",
      "Epoch 00013: val_accuracy improved from 0.91398 to 0.91935, saving model to checkpoints2/mymodel2_13.h5\n",
      "23/23 [==============================] - 9s 377ms/step - loss: 0.0682 - accuracy: 0.9767 - val_loss: 0.2199 - val_accuracy: 0.9194\n",
      "Epoch 14/50\n",
      "22/23 [===========================>..] - ETA: 0s - loss: 0.0645 - accuracy: 0.9828\n",
      "Epoch 00014: val_accuracy improved from 0.91935 to 0.92473, saving model to checkpoints2/mymodel2_14.h5\n",
      "23/23 [==============================] - 9s 379ms/step - loss: 0.0693 - accuracy: 0.9808 - val_loss: 0.2431 - val_accuracy: 0.9247\n",
      "Epoch 15/50\n",
      "22/23 [===========================>..] - ETA: 0s - loss: 0.0654 - accuracy: 0.9814\n",
      "Epoch 00015: val_accuracy improved from 0.92473 to 0.93548, saving model to checkpoints2/mymodel2_15.h5\n",
      "23/23 [==============================] - 9s 379ms/step - loss: 0.0643 - accuracy: 0.9822 - val_loss: 0.2268 - val_accuracy: 0.9355\n",
      "Epoch 16/50\n",
      "22/23 [===========================>..] - ETA: 0s - loss: 0.0386 - accuracy: 0.9857\n",
      "Epoch 00016: val_accuracy did not improve from 0.93548\n",
      "23/23 [==============================] - 9s 370ms/step - loss: 0.0377 - accuracy: 0.9863 - val_loss: 0.2924 - val_accuracy: 0.9355\n",
      "Epoch 17/50\n",
      "22/23 [===========================>..] - ETA: 0s - loss: 0.0358 - accuracy: 0.9900\n",
      "Epoch 00017: val_accuracy did not improve from 0.93548\n",
      "23/23 [==============================] - 8s 367ms/step - loss: 0.0373 - accuracy: 0.9891 - val_loss: 0.3464 - val_accuracy: 0.9194\n",
      "Epoch 18/50\n",
      "22/23 [===========================>..] - ETA: 0s - loss: 0.0329 - accuracy: 0.9871\n",
      "Epoch 00018: val_accuracy did not improve from 0.93548\n",
      "23/23 [==============================] - 8s 367ms/step - loss: 0.0324 - accuracy: 0.9877 - val_loss: 0.2726 - val_accuracy: 0.9140\n",
      "Epoch 19/50\n",
      "22/23 [===========================>..] - ETA: 0s - loss: 0.0232 - accuracy: 0.9914\n",
      "Epoch 00019: val_accuracy did not improve from 0.93548\n",
      "23/23 [==============================] - 8s 368ms/step - loss: 0.0225 - accuracy: 0.9918 - val_loss: 0.3008 - val_accuracy: 0.8978\n",
      "Epoch 20/50\n",
      "22/23 [===========================>..] - ETA: 0s - loss: 0.0262 - accuracy: 0.9957\n",
      "Epoch 00020: val_accuracy did not improve from 0.93548\n",
      "23/23 [==============================] - 9s 371ms/step - loss: 0.0257 - accuracy: 0.9959 - val_loss: 0.3295 - val_accuracy: 0.9301\n",
      "Epoch 21/50\n",
      "22/23 [===========================>..] - ETA: 0s - loss: 0.0212 - accuracy: 0.9943\n",
      "Epoch 00021: val_accuracy did not improve from 0.93548\n",
      "23/23 [==============================] - 8s 369ms/step - loss: 0.0209 - accuracy: 0.9945 - val_loss: 0.2869 - val_accuracy: 0.9247\n",
      "Epoch 22/50\n",
      "22/23 [===========================>..] - ETA: 0s - loss: 0.0074 - accuracy: 1.0000\n",
      "Epoch 00022: val_accuracy did not improve from 0.93548\n",
      "23/23 [==============================] - 9s 370ms/step - loss: 0.0073 - accuracy: 1.0000 - val_loss: 0.3294 - val_accuracy: 0.9247\n",
      "Epoch 23/50\n",
      "22/23 [===========================>..] - ETA: 0s - loss: 0.0036 - accuracy: 1.0000\n",
      "Epoch 00023: val_accuracy did not improve from 0.93548\n",
      "23/23 [==============================] - 9s 370ms/step - loss: 0.0036 - accuracy: 1.0000 - val_loss: 0.3502 - val_accuracy: 0.9301\n",
      "Epoch 24/50\n",
      "22/23 [===========================>..] - ETA: 0s - loss: 0.0031 - accuracy: 1.0000\n",
      "Epoch 00024: val_accuracy did not improve from 0.93548\n",
      "23/23 [==============================] - 9s 375ms/step - loss: 0.0030 - accuracy: 1.0000 - val_loss: 0.3191 - val_accuracy: 0.9355\n",
      "Epoch 25/50\n",
      "22/23 [===========================>..] - ETA: 0s - loss: 0.0025 - accuracy: 1.0000\n",
      "Epoch 00025: val_accuracy did not improve from 0.93548\n",
      "23/23 [==============================] - 9s 373ms/step - loss: 0.0028 - accuracy: 1.0000 - val_loss: 0.3828 - val_accuracy: 0.9301\n",
      "Epoch 26/50\n",
      "22/23 [===========================>..] - ETA: 0s - loss: 0.0017 - accuracy: 1.0000\n",
      "Epoch 00026: val_accuracy did not improve from 0.93548\n",
      "23/23 [==============================] - 8s 367ms/step - loss: 0.0018 - accuracy: 1.0000 - val_loss: 0.3832 - val_accuracy: 0.9301\n",
      "Epoch 27/50\n",
      "22/23 [===========================>..] - ETA: 0s - loss: 0.0017 - accuracy: 1.0000\n",
      "Epoch 00027: val_accuracy did not improve from 0.93548\n",
      "23/23 [==============================] - 9s 372ms/step - loss: 0.0017 - accuracy: 1.0000 - val_loss: 0.3473 - val_accuracy: 0.9247\n",
      "Epoch 28/50\n",
      "22/23 [===========================>..] - ETA: 0s - loss: 0.0015 - accuracy: 1.0000\n",
      "Epoch 00028: val_accuracy did not improve from 0.93548\n",
      "23/23 [==============================] - 9s 371ms/step - loss: 0.0015 - accuracy: 1.0000 - val_loss: 0.3373 - val_accuracy: 0.9247\n"
     ]
    },
    {
     "name": "stdout",
     "output_type": "stream",
     "text": [
      "Epoch 29/50\n",
      "22/23 [===========================>..] - ETA: 0s - loss: 0.0012 - accuracy: 1.0000\n",
      "Epoch 00029: val_accuracy did not improve from 0.93548\n",
      "23/23 [==============================] - 9s 370ms/step - loss: 0.0012 - accuracy: 1.0000 - val_loss: 0.3841 - val_accuracy: 0.9301\n",
      "Epoch 30/50\n",
      "22/23 [===========================>..] - ETA: 0s - loss: 7.0608e-04 - accuracy: 1.0000\n",
      "Epoch 00030: val_accuracy did not improve from 0.93548\n",
      "23/23 [==============================] - 9s 376ms/step - loss: 7.4377e-04 - accuracy: 1.0000 - val_loss: 0.3645 - val_accuracy: 0.9194\n",
      "Epoch 31/50\n",
      "22/23 [===========================>..] - ETA: 0s - loss: 3.7728e-04 - accuracy: 1.0000\n",
      "Epoch 00031: val_accuracy did not improve from 0.93548\n",
      "23/23 [==============================] - 9s 374ms/step - loss: 4.3145e-04 - accuracy: 1.0000 - val_loss: 0.3687 - val_accuracy: 0.9194\n",
      "Epoch 32/50\n",
      "22/23 [===========================>..] - ETA: 0s - loss: 3.2142e-04 - accuracy: 1.0000\n",
      "Epoch 00032: val_accuracy did not improve from 0.93548\n",
      "23/23 [==============================] - 9s 375ms/step - loss: 3.1577e-04 - accuracy: 1.0000 - val_loss: 0.3702 - val_accuracy: 0.9194\n",
      "Epoch 33/50\n",
      "22/23 [===========================>..] - ETA: 0s - loss: 2.6635e-04 - accuracy: 1.0000\n",
      "Epoch 00033: val_accuracy did not improve from 0.93548\n",
      "23/23 [==============================] - 8s 368ms/step - loss: 2.5814e-04 - accuracy: 1.0000 - val_loss: 0.3745 - val_accuracy: 0.9194\n",
      "Epoch 34/50\n",
      "22/23 [===========================>..] - ETA: 0s - loss: 2.4174e-04 - accuracy: 1.0000\n",
      "Epoch 00034: val_accuracy did not improve from 0.93548\n",
      "23/23 [==============================] - 9s 371ms/step - loss: 2.3261e-04 - accuracy: 1.0000 - val_loss: 0.3781 - val_accuracy: 0.9194\n",
      "Epoch 35/50\n",
      "22/23 [===========================>..] - ETA: 0s - loss: 2.1816e-04 - accuracy: 1.0000\n",
      "Epoch 00035: val_accuracy did not improve from 0.93548\n",
      "23/23 [==============================] - 8s 367ms/step - loss: 2.0928e-04 - accuracy: 1.0000 - val_loss: 0.3816 - val_accuracy: 0.9247\n",
      "Epoch 36/50\n",
      "22/23 [===========================>..] - ETA: 0s - loss: 1.9589e-04 - accuracy: 1.0000\n",
      "Epoch 00036: val_accuracy did not improve from 0.93548\n",
      "23/23 [==============================] - 8s 368ms/step - loss: 1.9420e-04 - accuracy: 1.0000 - val_loss: 0.3827 - val_accuracy: 0.9194\n",
      "Epoch 37/50\n",
      "22/23 [===========================>..] - ETA: 0s - loss: 1.8243e-04 - accuracy: 1.0000\n",
      "Epoch 00037: val_accuracy did not improve from 0.93548\n",
      "23/23 [==============================] - 9s 374ms/step - loss: 1.7652e-04 - accuracy: 1.0000 - val_loss: 0.3843 - val_accuracy: 0.9194\n",
      "Epoch 38/50\n",
      "22/23 [===========================>..] - ETA: 0s - loss: 1.6642e-04 - accuracy: 1.0000\n",
      "Epoch 00038: val_accuracy did not improve from 0.93548\n",
      "23/23 [==============================] - 9s 373ms/step - loss: 1.6892e-04 - accuracy: 1.0000 - val_loss: 0.3858 - val_accuracy: 0.9194\n",
      "Epoch 39/50\n",
      "22/23 [===========================>..] - ETA: 0s - loss: 1.5361e-04 - accuracy: 1.0000\n",
      "Epoch 00039: val_accuracy did not improve from 0.93548\n",
      "23/23 [==============================] - 8s 367ms/step - loss: 1.5187e-04 - accuracy: 1.0000 - val_loss: 0.3923 - val_accuracy: 0.9247\n",
      "Epoch 40/50\n",
      "22/23 [===========================>..] - ETA: 0s - loss: 1.5123e-04 - accuracy: 1.0000\n",
      "Epoch 00040: val_accuracy did not improve from 0.93548\n",
      "23/23 [==============================] - 9s 370ms/step - loss: 1.4503e-04 - accuracy: 1.0000 - val_loss: 0.3930 - val_accuracy: 0.9194\n",
      "Epoch 41/50\n",
      "22/23 [===========================>..] - ETA: 0s - loss: 1.2996e-04 - accuracy: 1.0000\n",
      "Epoch 00041: val_accuracy did not improve from 0.93548\n",
      "23/23 [==============================] - 9s 372ms/step - loss: 1.3246e-04 - accuracy: 1.0000 - val_loss: 0.3943 - val_accuracy: 0.9194\n",
      "Epoch 42/50\n",
      "22/23 [===========================>..] - ETA: 0s - loss: 1.2877e-04 - accuracy: 1.0000\n",
      "Epoch 00042: val_accuracy did not improve from 0.93548\n",
      "23/23 [==============================] - 8s 369ms/step - loss: 1.2403e-04 - accuracy: 1.0000 - val_loss: 0.3984 - val_accuracy: 0.9194\n",
      "Epoch 43/50\n",
      "22/23 [===========================>..] - ETA: 0s - loss: 1.1808e-04 - accuracy: 1.0000\n",
      "Epoch 00043: val_accuracy did not improve from 0.93548\n",
      "23/23 [==============================] - 9s 371ms/step - loss: 1.1814e-04 - accuracy: 1.0000 - val_loss: 0.3975 - val_accuracy: 0.9194\n",
      "Epoch 44/50\n",
      "22/23 [===========================>..] - ETA: 0s - loss: 1.0711e-04 - accuracy: 1.0000\n",
      "Epoch 00044: val_accuracy did not improve from 0.93548\n",
      "23/23 [==============================] - 9s 375ms/step - loss: 1.0919e-04 - accuracy: 1.0000 - val_loss: 0.4026 - val_accuracy: 0.9247\n",
      "Epoch 45/50\n",
      "22/23 [===========================>..] - ETA: 0s - loss: 1.0584e-04 - accuracy: 1.0000\n",
      "Epoch 00045: val_accuracy did not improve from 0.93548\n",
      "23/23 [==============================] - 8s 368ms/step - loss: 1.0383e-04 - accuracy: 1.0000 - val_loss: 0.4020 - val_accuracy: 0.9194\n",
      "Epoch 46/50\n",
      "22/23 [===========================>..] - ETA: 0s - loss: 1.0085e-04 - accuracy: 1.0000\n",
      "Epoch 00046: val_accuracy did not improve from 0.93548\n",
      "23/23 [==============================] - 9s 371ms/step - loss: 9.7629e-05 - accuracy: 1.0000 - val_loss: 0.4051 - val_accuracy: 0.9194\n",
      "Epoch 47/50\n",
      "22/23 [===========================>..] - ETA: 0s - loss: 9.6868e-05 - accuracy: 1.0000\n",
      "Epoch 00047: val_accuracy did not improve from 0.93548\n",
      "23/23 [==============================] - 9s 371ms/step - loss: 9.3063e-05 - accuracy: 1.0000 - val_loss: 0.4078 - val_accuracy: 0.9247\n",
      "Epoch 48/50\n",
      "22/23 [===========================>..] - ETA: 0s - loss: 9.1464e-05 - accuracy: 1.0000\n",
      "Epoch 00048: val_accuracy did not improve from 0.93548\n",
      "23/23 [==============================] - 9s 371ms/step - loss: 8.7870e-05 - accuracy: 1.0000 - val_loss: 0.4085 - val_accuracy: 0.9194\n",
      "Epoch 49/50\n",
      "22/23 [===========================>..] - ETA: 0s - loss: 8.3472e-05 - accuracy: 1.0000\n",
      "Epoch 00049: val_accuracy did not improve from 0.93548\n",
      "23/23 [==============================] - 9s 370ms/step - loss: 8.4532e-05 - accuracy: 1.0000 - val_loss: 0.4071 - val_accuracy: 0.9194\n",
      "Epoch 50/50\n",
      "22/23 [===========================>..] - ETA: 0s - loss: 7.8575e-05 - accuracy: 1.0000\n",
      "Epoch 00050: val_accuracy did not improve from 0.93548\n",
      "23/23 [==============================] - 9s 371ms/step - loss: 8.0056e-05 - accuracy: 1.0000 - val_loss: 0.4113 - val_accuracy: 0.9247\n",
      "Training completed in time:  0:07:14.381823\n"
     ]
    }
   ],
   "source": [
    "model = train_model_mspectrogram(dataset, num_epochs=50, model_name='vgg19')"
   ]
  },
  {
   "cell_type": "markdown",
   "metadata": {},
   "source": [
    "#### Pick best model and get validation score"
   ]
  },
  {
   "cell_type": "code",
   "execution_count": 20,
   "metadata": {},
   "outputs": [
    {
     "name": "stdout",
     "output_type": "stream",
     "text": [
      "6/6 [==============================] - 1s 186ms/step - loss: 0.2268 - accuracy: 0.9355\n"
     ]
    }
   ],
   "source": [
    "model = tf2_models.get_model_fn_map()['vgg19'](6)\n",
    "model = compile_model(model)\n",
    "model.load_weights('checkpoints2/mymodel2_15.h5')\n",
    "scores = model.evaluate(val_gen)"
   ]
  },
  {
   "cell_type": "code",
   "execution_count": null,
   "metadata": {},
   "outputs": [],
   "source": []
  }
 ],
 "metadata": {
  "kernelspec": {
   "display_name": "Python 3",
   "language": "python",
   "name": "python3"
  },
  "language_info": {
   "codemirror_mode": {
    "name": "ipython",
    "version": 3
   },
   "file_extension": ".py",
   "mimetype": "text/x-python",
   "name": "python",
   "nbconvert_exporter": "python",
   "pygments_lexer": "ipython3",
   "version": "3.6.8"
  }
 },
 "nbformat": 4,
 "nbformat_minor": 4
}
